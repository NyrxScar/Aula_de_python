{
 "cells": [
  {
   "cell_type": "markdown",
   "id": "e894d437",
   "metadata": {},
   "source": [
    "1 - Sistema de Login Simples \n",
    "Descrição: Crie um programa que tenha um nome de usuário e uma senha predefinidos (ex: usuario = \"admin\" e senha = \"12345\"). O programa deve solicitar ao usuário que digite seu nome e senha. Se as credenciais estiverem corretas, exiba \"Login bem-sucedido!\". Caso contrário, mostre \"Credenciais incorretas.\" \n",
    "Dica: Use o operador and para combinar as duas condições em um único if. "
   ]
  },
  {
   "cell_type": "code",
   "execution_count": 15,
   "id": "850b45c0",
   "metadata": {},
   "outputs": [
    {
     "name": "stdout",
     "output_type": "stream",
     "text": [
      "Credenciais incorretas\n"
     ]
    }
   ],
   "source": [
    "usuario = input(\"Digite seu usuario:\")\n",
    "senha = input(\"Digite a senha:\")\n",
    "\n",
    "if usuario == \"admin\" and senha == \"12345\":\n",
    "    print(\"Você logou com sucesso\")\n",
    "else:\n",
    "    print(\"Credenciais incorretas\")\n"
   ]
  },
  {
   "cell_type": "markdown",
   "id": "48e10ee1",
   "metadata": {},
   "source": [
    "2 - Avaliador de Média Escolar \n",
    "Descrição: Crie um programa que solicite ao usuário as notas de 3 provas de um aluno (de 0 a 10). O programa deve calcular a média e, com base nela, exibir o status do aluno. \n",
    "Aprovado: Média igual ou superior a 7. \n",
    "Recuperação: Média entre 5 e 6.9. \n",
    "Reprovado: Média abaixo de 5. \n",
    "Dica: Use if, elif e else para criar a lógica de avaliação. \n",
    "Exemplo de Saída: \n",
    "Notas 8, 7, 9: A média é 8.0. O aluno está Aprovado. \n",
    "Notas 5, 6, 6: A média é 5.6. O aluno está em Recuperação. \n",
    "Notas 4, 3, 2: A média é 3.0. O aluno está Reprovado. "
   ]
  },
  {
   "cell_type": "code",
   "execution_count": 16,
   "id": "b2e96e8a",
   "metadata": {},
   "outputs": [
    {
     "ename": "ValueError",
     "evalue": "could not convert string to float: ''",
     "output_type": "error",
     "traceback": [
      "\u001b[31m---------------------------------------------------------------------------\u001b[39m",
      "\u001b[31mValueError\u001b[39m                                Traceback (most recent call last)",
      "\u001b[36mCell\u001b[39m\u001b[36m \u001b[39m\u001b[32mIn[16]\u001b[39m\u001b[32m, line 1\u001b[39m\n\u001b[32m----> \u001b[39m\u001b[32m1\u001b[39m nota1 = \u001b[38;5;28;43mfloat\u001b[39;49m\u001b[43m(\u001b[49m\u001b[38;5;28;43minput\u001b[39;49m\u001b[43m(\u001b[49m\u001b[33;43m\"\u001b[39;49m\u001b[33;43mDigite sua primeira nota: \u001b[39;49m\u001b[33;43m\"\u001b[39;49m\u001b[43m \u001b[49m\u001b[43m)\u001b[49m\u001b[43m)\u001b[49m\n\u001b[32m      2\u001b[39m nota2 = \u001b[38;5;28mfloat\u001b[39m(\u001b[38;5;28minput\u001b[39m(\u001b[33m\"\u001b[39m\u001b[33mDigite sua segunda nota: \u001b[39m\u001b[33m\"\u001b[39m ))\n\u001b[32m      3\u001b[39m nota3 = \u001b[38;5;28mfloat\u001b[39m(\u001b[38;5;28minput\u001b[39m(\u001b[33m\"\u001b[39m\u001b[33mDigite sua terceira nota: \u001b[39m\u001b[33m\"\u001b[39m ))\n",
      "\u001b[31mValueError\u001b[39m: could not convert string to float: ''"
     ]
    }
   ],
   "source": [
    "nota1 = float(input(\"Digite sua primeira nota: \" ))\n",
    "nota2 = float(input(\"Digite sua segunda nota: \" ))\n",
    "nota3 = float(input(\"Digite sua terceira nota: \" ))\n",
    "media = (nota1+nota2+nota3)/3\n",
    "\n",
    "if media >= 7:\n",
    "    print(\"Aprovado\")\n",
    "elif media >=5:\n",
    "    print(\"Recuperação\")\n",
    "else:\n",
    "    print(\"Reprovada\")"
   ]
  },
  {
   "cell_type": "markdown",
   "id": "478ef93f",
   "metadata": {},
   "source": [
    "3 - Cálculo de Preço de Combustível\n",
    "Descrição: Desenvolva um programa que pergunte ao usuário o tipo de combustível (Gasolina ou Álcool) e a quantidade de litros abastecida. O programa deve calcular o valor total a ser pago, considerando os preços e descontos a seguir: \n",
    "Álcool: \n",
    "Preço por litro: R$ 4.50. \n",
    "Desconto de 3% para até 20 litros. \n",
    "Desconto de 5% para mais de 20 litros. \n",
    "Gasolina: \n",
    "Preço por litro: R$ 5.80. \n",
    "Desconto de 4% para até 20 litros. \n",
    "Desconto de 6% para mais de 20 litros. \n",
    "Dica: Use condições aninhadas (if dentro de if) para verificar o tipo de combustível e a quantidade de litros, aplicando o desconto correto. \n",
    "Exemplo de Saída: \n",
    "Combustível: Álcool, Litros: 15. Saída: \"Valor a pagar: R$ 65.59\" (preço original R$ 67.50, desconto de 3%) \n",
    "Combustível: Gasolina, Litros: 30. Saída: \"Valor a pagar: R$ 163.68\" (preço original R$ 174.00, desconto de 6%) "
   ]
  },
  {
   "cell_type": "code",
   "execution_count": null,
   "id": "8c5e04d7",
   "metadata": {},
   "outputs": [],
   "source": [
    "alcool = \"1 - Álcool\"\n",
    "gasolina = \"2 - Gasolina\"\n",
    "\n",
    "print(\"Digite 1 para Ácool e 2 para gasolina: \")\n",
    "\n",
    "tipo_comb = int(input(\"Digite o número do tipo de combustível desejado: \"))\n",
    "if tipo_comb == 1:\n",
    "    preco_litro = 4.50\n",
    "    qnt_litro = float(input(\"Digite a quantidade de litros de Álcool que deseja abastecer: \"))\n",
    "    valor = preco_litro*qnt_litro\n",
    "    if qnt_litro > 20:\n",
    "        valor_novo = valor - valor*0.05\n",
    "        print(f\"Combustível: Álcool, Litros: {qnt_litro}. Valor a pagar: {valor_novo:.2f} (preço original R$ {valor:.2f}, desconto de 5%)\")\n",
    "    elif qnt_litro > 0:\n",
    "        valor_novo_tres = valor - valor*0.03\n",
    "        print(f\"Combustível: Álcool, Litros: {qnt_litro}. Valor a pagar: {valor_novo_tres:.2f} (preço original R$ {valor:.2f}, desconto de 3%)\")\n",
    "    else:\n",
    "        print(\"Insina um valor positivo da qnt de litros\")\n",
    "elif tipo_comb == 2:\n",
    "    preco_litro = 5.80\n",
    "    qnt_litro = float(input(\"Digite a quantidade de litros de Álcool que deseja abastecer: \"))\n",
    "    valor = preco_litro*qnt_litro\n",
    "    if qnt_litro > 20:\n",
    "        valor_novo = valor - valor*0.06\n",
    "        print(f\"Combustível: Gasolina, Litros: {qnt_litro}. Valor a pagar: {valor_novo:.2f} (preço original R$ {valor:.2f}, desconto de 6%)\")\n",
    "    elif qnt_litro > 0:\n",
    "        valor_novo_tres = valor - valor*0.04\n",
    "        print(f\"Combustível: Gasolina, Litros: {qnt_litro}. Valor a pagar: {valor_novo_tres:.2f} (preço original R$ {valor:.2f}, desconto de 4%)\")\n",
    "    else:\n",
    "        print(\"Insina um valor positivo da qnt de litros\")\n",
    "else:\n",
    "    print(\"Insina um valor válido\")"
   ]
  },
  {
   "cell_type": "markdown",
   "id": "beed6741",
   "metadata": {},
   "source": [
    "4 - Verificador de Faixa Etária\n",
    "Descrição: Desenvolva um programa que peça a idade de uma pessoa. Com base na idade, o programa deve classificar a pessoa em uma das seguintes categorias: \n",
    "Criança: 0 a 12 anos. \n",
    "Adolescente: 13 a 17 anos. \n",
    "Adulto: 18 a 59 anos. \n",
    "Idoso: 60 anos ou mais. \n",
    "Dica: Utilize uma cadeia de if, elif e else para verificar as diferentes faixas etárias. \n",
    "Exemplo de Saída: \n",
    "Idade 10: \"Você é uma criança.\" \n",
    "Idade 35: \"Você é um adulto.\" \n",
    "Idade 70: \"Você é um idoso.\" "
   ]
  },
  {
   "cell_type": "code",
   "execution_count": null,
   "id": "f14e96a7",
   "metadata": {},
   "outputs": [],
   "source": [
    "print(\"Verificador de Faixa Etária\")\n",
    "\n",
    "idade = int(input(\"Digite sua idade: \"))\n",
    "if idade >= 60:\n",
    "    print(\"Faixa etária: Idoso\")\n",
    "elif idade >= 18:\n",
    "    print(\"Faixa etária: Adulto\")\n",
    "elif idade >= 13:\n",
    "    print(\"Faixa etária: Adolescente\")\n",
    "elif idade >=0:\n",
    "    print(\"Faixa etária: Criança\")\n",
    "else:\n",
    "    (\"Digite uma idade válida\")\n",
    "\n",
    "\n"
   ]
  },
  {
   "cell_type": "markdown",
   "id": "878baad0",
   "metadata": {},
   "source": [
    "5 - Verificador de Par ou Ímpar### \n",
    "Descrição: Crie um programa que solicite um número inteiro ao usuário. Em seguida, o programa deve verificar se o número é par ou ímpar e exibir uma mensagem correspondente. \n",
    "Dica: Use o operador de módulo (%) para verificar o resto da divisão por 2. \n",
    "Exemplo de Saída: \n",
    "Se o usuário digitar 10, a saída deve ser: \"O número 10 é par.\" \n",
    "Se o usuário digitar 7, a saída deve ser: \"O número 7 é ímpar.\" "
   ]
  },
  {
   "cell_type": "code",
   "execution_count": null,
   "id": "c1bbe5d7",
   "metadata": {},
   "outputs": [
    {
     "name": "stdout",
     "output_type": "stream",
     "text": [
      "Par\n"
     ]
    }
   ],
   "source": [
    "numero = int(input(\"Digite um número: \"))\n",
    "if numero % 2 == 0:\n",
    "    print(\"Par\")\n",
    "else:\n",
    "    print(\"Ímpar\")\n",
    "                        "
   ]
  },
  {
   "cell_type": "markdown",
   "id": "e422cff3",
   "metadata": {},
   "source": [
    "6 - Calculadora de Desconto \n",
    "Descrição: Elabore um programa que peça o valor de uma compra. O programa deve aplicar um desconto com base no valor: \n",
    "Se a compra for igual ou superior a R$ 100,00, aplique um desconto de 10%. \n",
    "Caso contrário, não aplique desconto. \n",
    "No final, exiba o valor final a ser pago pelo cliente. \n",
    "Dica: Lembre-se de converter a entrada do usuário para um tipo numérico (float ou int). \n",
    "Exemplo de Saída: \n",
    "Se a compra for R$ 150,00, a saída deve ser: \"O valor final com 10% de desconto é de R$ 135.00.\" \n",
    "Se a compra for R$ 80,00, a saída deve ser: \"O valor final é de R$ 80.00.\" "
   ]
  },
  {
   "cell_type": "code",
   "execution_count": 21,
   "id": "fbc8dc05",
   "metadata": {},
   "outputs": [
    {
     "name": "stdout",
     "output_type": "stream",
     "text": [
      "Se a compra for R$ 135.0, O valor final com 10% de desconto será de R$ 135.0.\n"
     ]
    }
   ],
   "source": [
    "valor_compra = float(input(\"Digite o valor da compra: \"))\n",
    "if valor_compra >= 100:\n",
    "    valor_compra = valor_compra - valor_compra*0.10\n",
    "    print(f\"Se a compra for R$ {valor_compra}, O valor final com 10% de desconto será de R$ {valor_compra}.\")\n",
    "else:\n",
    "   print(f\"O valor final que não possui desconto será de R$ {valor_compra}\") \n"
   ]
  },
  {
   "cell_type": "markdown",
   "id": "751b29f8",
   "metadata": {},
   "source": [
    "\n",
    "7 - Classificador de Triângulos \n",
    "Descrição: Construa um programa que receba o comprimento de três lados de um triângulo. O programa deve verificar e informar o tipo de triângulo: \n",
    "Equilátero: Três lados iguais. \n",
    "Isósceles: Dois lados iguais. \n",
    "Escaleno: Três lados diferentes. \n",
    "Dica: Para verificar se é um triângulo, a soma de dois lados deve ser sempre maior que o terceiro. Inclua essa verificação como uma condição inicial. \n",
    "Exemplo de Saída: \n",
    "Lados 5, 5, 5: \"Triângulo Equilátero.\" \n",
    "Lados 5, 5, 8: \"Triângulo Isósceles.\" \n",
    "Lados 3, 4, 5: \"Triângulo Escaleno.\" \n",
    "Lados 1, 2, 5: \"Os lados não formam um triângulo.\" "
   ]
  },
  {
   "cell_type": "code",
   "execution_count": 31,
   "id": "a66e51f0",
   "metadata": {},
   "outputs": [
    {
     "name": "stdout",
     "output_type": "stream",
     "text": [
      "Isósceles\n",
      "2 - 2 - 3\n"
     ]
    }
   ],
   "source": [
    "lado1 = int(input(\"Digite o valor do primeiro lado: \" ))\n",
    "lado2 = int(input(\"Digite o valor do segundo lado: \" ))\n",
    "lado3 = int(input(\"Digite o valor do terceira lado: \" ))\n",
    "\n",
    "if (lado1 and lado2) == lado3:\n",
    "    print(\"Equilátero\")\n",
    "elif lado1 == lado2 != lado3:\n",
    "    print(\"Isósceles\")\n",
    "elif lado1 == lado3 != lado2:\n",
    "    print(\"Isósceles\")\n",
    "elif lado2 == lado3 != lado1:\n",
    "    print(\"Isósceles\")\n",
    "else:\n",
    "    print(\"Escaleno\")\n",
    "\n",
    "print(f\"{lado1} - {lado2} - {lado3}\")"
   ]
  }
 ],
 "metadata": {
  "kernelspec": {
   "display_name": "Python 3",
   "language": "python",
   "name": "python3"
  },
  "language_info": {
   "codemirror_mode": {
    "name": "ipython",
    "version": 3
   },
   "file_extension": ".py",
   "mimetype": "text/x-python",
   "name": "python",
   "nbconvert_exporter": "python",
   "pygments_lexer": "ipython3",
   "version": "3.13.0"
  }
 },
 "nbformat": 4,
 "nbformat_minor": 5
}
