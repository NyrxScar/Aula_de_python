{
 "cells": [
  {
   "attachments": {},
   "cell_type": "markdown",
   "metadata": {},
   "source": [
    "18 - Calculadora de IMC com Classificação: Peça ao usuário para inserir o\n",
    "peso (em kg) e a altura (em metros). Calcule o Índice de Massa\n",
    "Corporal (IMC) com a fórmula\n",
    "\n",
    "IMC=peso/(altura2)\n",
    ". Com base no resultado, classifique a pessoa de acordo com a tabela da OMS\n",
    "(Organização Mundial da Saúde):\n",
    "\n",
    "o Abaixo de 18.5: Abaixo do peso\n",
    "o 18.5 - 24.9: Peso normal\n",
    "o 25.0 - 29.9: Sobrepeso\n",
    "o 30.0 - 34.9: Obesidade grau 1\n",
    "o 35.0 - 39.9: Obesidade grau 2\n",
    "o Acima de 40.0: Obesidade grau 3"
   ]
  },
  {
   "cell_type": "code",
   "execution_count": null,
   "metadata": {},
   "outputs": [],
   "source": [
    "nome_paciente = input(\"Digite o nome do(a) paciente: \")\n",
    "altura = float(input(\"Digite sua altura:\"))\n",
    "peso = float(input(\"Digite o seu peso:\"))\n",
    "imc = peso/altura**2\n",
    "\n",
    "if imc >= 40:\n",
    "   print(f\"O(a) paciente {nome_paciente} com IMC {imc:.2f}, ou seja, IMC: Obesidade Grau 3\")\n",
    "if imc >= 35:\n",
    "   print(f\"O(a) paciente {nome_paciente} com IMC {imc:.2f}, assim sendo, IMC: Obesidade Grau 2\")\n",
    "elif imc >= 30:\n",
    "    print(f\"O(a) paciente {nome_paciente} com IMC {imc:.2f}, assim sendo, IMC: Obesidade Grau 1\")\n",
    "elif imc >= 25:\n",
    "    print(f\"O(a) paciente {nome_paciente} com IMC {imc:.2f}, assim sendo, IMC: Sobrepeso\")\n",
    "elif imc >=18.5:\n",
    "    print(f\"O(a) paciente {nome_paciente} com IMC {imc:.2f}, assim sendo, IMC: Peso Normal\")\n",
    "elif imc > 0:\n",
    "    print(f\"O(a) paciente {nome_paciente} com IMC {imc:.2f}, assim sendo, IMC: Abaixo do Peso\")\n",
    "else:\n",
    "    (\"Digite uma número válido\")\n",
    "\n"
   ]
  },
  {
   "cell_type": "markdown",
   "metadata": {},
   "source": []
  }
 ],
 "metadata": {
  "kernelspec": {
   "display_name": "Python 3",
   "language": "python",
   "name": "python3"
  },
  "language_info": {
   "codemirror_mode": {
    "name": "ipython",
    "version": 3
   },
   "file_extension": ".py",
   "mimetype": "text/x-python",
   "name": "python",
   "nbconvert_exporter": "python",
   "pygments_lexer": "ipython3",
   "version": "3.13.7"
  },
  "orig_nbformat": 4,
  "vscode": {
   "interpreter": {
    "hash": "0ec5ffc130f0bbee70120fb30ec183d71f2adfc2467df412e9347df1163bfbaa"
   }
  }
 },
 "nbformat": 4,
 "nbformat_minor": 2
}
