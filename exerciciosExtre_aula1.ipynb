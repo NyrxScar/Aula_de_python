{
 "cells": [
  {
   "attachments": {},
   "cell_type": "markdown",
   "metadata": {},
   "source": [
    "18 - Calculadora de IMC com Classificação: Peça ao usuário para inserir o\n",
    "peso (em kg) e a altura (em metros). Calcule o Índice de Massa\n",
    "Corporal (IMC) com a fórmula\n",
    "\n",
    "IMC=peso/(altura2)\n",
    ". Com base no resultado, classifique a pessoa de acordo com a tabela da OMS\n",
    "(Organização Mundial da Saúde):\n",
    "\n",
    "o Abaixo de 18.5: Abaixo do peso\n",
    "o 18.5 - 24.9: Peso normal\n",
    "o 25.0 - 29.9: Sobrepeso\n",
    "o 30.0 - 34.9: Obesidade grau 1\n",
    "o 35.0 - 39.9: Obesidade grau 2\n",
    "o Acima de 40.0: Obesidade grau 3"
   ]
  },
  {
   "cell_type": "code",
   "execution_count": null,
   "metadata": {},
   "outputs": [],
   "source": [
    "nome_paciente = input(\"Digite o nome do(a) paciente: \")\n",
    "altura = float(input(\"Digite sua altura:\"))\n",
    "peso = float(input(\"Digite o seu peso:\"))\n",
    "imc = peso/altura**2\n",
    "\n",
    "if imc >= 40:\n",
    "   print(f\"O(a) paciente {nome_paciente} com IMC {imc:.2f}, ou seja, IMC: Obesidade Grau 3\")\n",
    "if imc >= 35:\n",
    "   print(f\"O(a) paciente {nome_paciente} com IMC {imc:.2f}, assim sendo, IMC: Obesidade Grau 2\")\n",
    "elif imc >= 30:\n",
    "    print(f\"O(a) paciente {nome_paciente} com IMC {imc:.2f}, assim sendo, IMC: Obesidade Grau 1\")\n",
    "elif imc >= 25:\n",
    "    print(f\"O(a) paciente {nome_paciente} com IMC {imc:.2f}, assim sendo, IMC: Sobrepeso\")\n",
    "elif imc >=18.5:\n",
    "    print(f\"O(a) paciente {nome_paciente} com IMC {imc:.2f}, assim sendo, IMC: Peso Normal\")\n",
    "elif imc > 0:\n",
    "    print(f\"O(a) paciente {nome_paciente} com IMC {imc:.2f}, assim sendo, IMC: Abaixo do Peso\")\n",
    "else:\n",
    "    (\"Digite uma número válido\")\n",
    "\n"
   ]
  },
  {
   "attachments": {},
   "cell_type": "markdown",
   "metadata": {},
   "source": [
    "19 Sistema de Reservas de Cinema: Crie um programa para um cinema.\n",
    "Peça a idade do usuário. As regras de preço são as seguintes:\n",
    "a. Preço base: R$ 20.\n",
    "b. Crianças (até 12 anos): 50% de desconto.\n",
    "c. Idosos (acima de 60 anos): 30% de desconto.\n",
    "d. Estudantes (apenas se tiverem a carteirinha): 25% de\n",
    "desconto. O programa deve perguntar se o usuário é estudante\n",
    "(se aplicável) e, com base nas respostas, calcular o valor final a ser pago."
   ]
  },
  {
   "cell_type": "code",
   "execution_count": 6,
   "metadata": {},
   "outputs": [
    {
     "name": "stdout",
     "output_type": "stream",
     "text": [
      "Bem vindo(a) ao Cineplay!\n",
      "As regras de preço são as seguintes:\n",
      " a. Preço base: R$ 20.\n",
      " b. Crianças (até 12 anos): 50% de desconto.\n",
      " c. Idosos (acima de 60 anos): 30% de desconto.\n",
      " d. Estudantes (apenas se tiverem a carteirinha): 25% de desconto.)\n",
      "Seu ingresso custará R$20.00\n"
     ]
    }
   ],
   "source": [
    "print(\"Bem vindo(a) ao Cineplay!\")\n",
    "\n",
    "print(\"As regras de preço são as seguintes:\\n a. Preço base: R$ 20.\\n b. Crianças (até 12 anos): 50% de desconto.\\n c. Idosos (acima de 60 anos): 30% de desconto.\\n d. Estudantes (apenas se tiverem a carteirinha): 25% de desconto.)\")\n",
    "\n",
    "idade = int(input(\"Digite sua idade: \"))\n",
    "estudante = int(input(\"Você é estudante? Digite 1 para 'Sim' e 2 para 'Não' \"))\n",
    "\n",
    "preco = float(20)\n",
    "desconto_infantil = preco*0.5\n",
    "desconto_idoso = preco*0.3\n",
    "desconto_estudante = preco*0.25\n",
    "\n",
    "if estudante == \"1\":\n",
    "    print(f\"{estudante} - Afirmo por meio desta mensagem que sou estudante conforme a opção selecionada\")\n",
    "    print(f\"Seu ingresso custará R${desconto_estudante:.2f}\")\n",
    "else:\n",
    "    if idade <= 12:\n",
    "        print(f\"Idade:{idade}\")\n",
    "        print(f\"Seu ingresso custará {desconto_infantil:.2f}\")\n",
    "    elif idade>60:\n",
    "        print(f\"Idade:{idade}\")\n",
    "        print(f\"Seu ingresso custará {desconto_idoso:.2f}\")\n",
    "    else:\n",
    "        print(f\"Idade:{idade}\")\n",
    "        print(f\"Seu ingresso custará R${preco:.2f}\")\n",
    "\n",
    "\n",
    "\n",
    "\n",
    "\n",
    "\n"
   ]
  },
  {
   "cell_type": "markdown",
   "metadata": {},
   "source": []
  }
 ],
 "metadata": {
  "kernelspec": {
   "display_name": "Python 3",
   "language": "python",
   "name": "python3"
  },
  "language_info": {
   "codemirror_mode": {
    "name": "ipython",
    "version": 3
   },
   "file_extension": ".py",
   "mimetype": "text/x-python",
   "name": "python",
   "nbconvert_exporter": "python",
   "pygments_lexer": "ipython3",
   "version": "3.13.7"
  },
  "orig_nbformat": 4,
  "vscode": {
   "interpreter": {
    "hash": "0ab815499fe55df171a72d4a1649f67b5270055a7d65bf0d74777bd81edbf969"
   }
  }
 },
 "nbformat": 4,
 "nbformat_minor": 2
}
