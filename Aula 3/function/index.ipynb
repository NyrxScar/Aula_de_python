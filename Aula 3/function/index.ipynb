{
 "cells": [
  {
   "cell_type": "code",
   "execution_count": null,
   "metadata": {},
   "outputs": [
    {
     "name": "stdout",
     "output_type": "stream",
     "text": [
      "25\n",
      "5\n"
     ]
    }
   ],
   "source": [
    "def somar_num(a,b):\n",
    "    soma = a+b\n",
    "    print(soma)\n",
    "\n",
    "x = 10\n",
    "y = 15\n",
    "\n",
    "somar_num(x,y)\n",
    "\n",
    "def somar_num2(a,b):\n",
    "    soma = a+b\n",
    "    print(soma)\n",
    "\n",
    "x = int(input(\"Digite um número:\"))\n",
    "print(x)\n",
    "y = int(input(\"Digite um número:\"))\n",
    "print(y)\n",
    "somar_num(x,y)"
   ]
  },
  {
   "cell_type": "code",
   "execution_count": null,
   "metadata": {},
   "outputs": [
    {
     "name": "stdout",
     "output_type": "stream",
     "text": [
      "Resultado de par ou ímpar é :  Ímpar\n"
     ]
    }
   ],
   "source": [
    "def par_impar(numero):\n",
    "    if numero % 2 == 0:\n",
    "        return \"Par\"\n",
    "    else:\n",
    "        return \"Ímpar\"\n",
    "    \n",
    "numero = int(input(\"Digite um número:\"))\n",
    "resultado = par_impar(numero)\n",
    "\n",
    "print(f\"Resultado de par ou ímpar é : {resultado} \")\n"
   ]
  },
  {
   "cell_type": "code",
   "execution_count": 8,
   "metadata": {},
   "outputs": [
    {
     "name": "stdout",
     "output_type": "stream",
     "text": [
      "Preço do Imóvel será 6000.0\n"
     ]
    }
   ],
   "source": [
    "def calcular_area(largura, comprimento):\n",
    "    area = largura*comprimento\n",
    "    return area\n",
    "\n",
    "larguraImovel = float(input(\"Digite a largura do retângulo: \"))\n",
    "comprimentoImovel = float(input(\"Digite o comprimento do retângulo: \"))\n",
    "precoMetroquadrado = float(input(\"Digite o preço do metro quadrado: \"))\n",
    "\n",
    "areaImovel = calcular_area(larguraImovel, comprimentoImovel)\n",
    "precoImovel = areaImovel*precoMetroquadrado\n",
    "print(f\"Preço do Imóvel será {precoImovel}\")"
   ]
  },
  {
   "cell_type": "markdown",
   "metadata": {},
   "source": [
    "Exercícios"
   ]
  },
  {
   "cell_type": "markdown",
   "metadata": {},
   "source": [
    "1 - Crie uma função chamada dobro(numero) que receba um número e retorne o dobro dele.\n",
    "No programa principal, peça ao usuário um número, chame a função e mostre o resultado na tela.\n"
   ]
  },
  {
   "cell_type": "code",
   "execution_count": 11,
   "metadata": {},
   "outputs": [
    {
     "name": "stdout",
     "output_type": "stream",
     "text": [
      "O dobro de 2.0 é 4.0\n"
     ]
    }
   ],
   "source": [
    "def dobro(numero):\n",
    "    dobro_num = numero*2\n",
    "    return dobro_num\n",
    "\n",
    "num = float(input(\"Digite o número: \"))\n",
    "resultado = dobro(num)\n",
    "print(f\"O dobro de {num} é {resultado}\")"
   ]
  },
  {
   "cell_type": "markdown",
   "metadata": {},
   "source": [
    "\n",
    "##02Crie uma função chamada classificar_idade(idade) que receba a idade de uma pessoa e retorne uma string com a classificação:\n",
    "\n",
    "\"Criança\" (idade < 12)\n",
    "\n",
    "\"Adolescente\" (12 <= idade < 18)\n",
    "\n",
    "\"Adulto\" (18 <= idade < 60)\n",
    "\n",
    "\"Idoso\" (idade >= 60)\n",
    "\n",
    "No programa principal, peça a idade ao usuário, chame a função e mostre o resultado.\n"
   ]
  },
  {
   "cell_type": "code",
   "execution_count": 22,
   "metadata": {},
   "outputs": [
    {
     "name": "stdout",
     "output_type": "stream",
     "text": [
      "Vc é Criança\n"
     ]
    }
   ],
   "source": [
    "def classificar_idade(idade):\n",
    "    if idade < 12:\n",
    "        return \"Criança\"\n",
    "    elif idade <= 18:\n",
    "        return \"Adolescente\"\n",
    "    elif idade <= 60:\n",
    "        return \"Adulto\"\n",
    "    else:\n",
    "        return \"Idoso\"\n",
    "\n",
    "idade_num = int(input(\"Digite sua Idade: \"))\n",
    "\n",
    "print(f\"Vc é {classificar_idade(idade_num)}\")"
   ]
  },
  {
   "cell_type": "markdown",
   "metadata": {},
   "source": [
    "\n",
    "3 - Crie uma função chamada calcular_media(lista_de_notas) que receba uma lista de notas (números float) e retorne a média dessas notas.\n",
    "\n",
    "No programa principal:\n",
    "\n",
    "Peça ao usuário quantos alunos serão cadastrados.\n",
    "\n",
    "Para cada aluno, peça o nome e as 3 notas.\n",
    "\n",
    "Use a função para calcular a média e mostre o nome e a média.\n",
    "\n",
    "➕ Bônus: diga se o aluno foi \"Aprovado\" (média >= 7) ou \"Reprovado\"."
   ]
  },
  {
   "cell_type": "code",
   "execution_count": null,
   "metadata": {},
   "outputs": [],
   "source": [
    "\n",
    "alunos_notas = []\n",
    "\n",
    "qnt_alunos = int(input(\"Quantos alunos serão cadastrados? \"))\n",
    "\n",
    "\n",
    "def aprovacao(numero):\n",
    "    if numero >= 7:\n",
    "        return \"Aprovado\"\n",
    "    else:\n",
    "        return \"Reprovado\"\n",
    "    \n",
    "for aluno in range(qnt_alunos):\n",
    "    nome = input(\"Digite o aluno: \")\n",
    "    n1 = float(input(\"Digite a primeira nota: \"))\n",
    "    n2 = float(input(\"Digite a segunda nota: \"))\n",
    "    n3 = float(input(\"Digite a terceira nota: \"))\n",
    "    media_notas = sum([n1,n2,n3])/3\n",
    "\n",
    "\n",
    "    alunos_notas.append({\n",
    "        'Nome': nome,\n",
    "        'Notas': [n1, n2, n3],\n",
    "        'Media Final' : round(media_notas,2),\n",
    "        'Aprovação' : aprovacao(media_notas)\n",
    "    })\n",
    "\n",
    "print(alunos_notas)\n",
    "\n",
    "\n",
    "# lista_alunos = []\n",
    "# lista_notas = []\n",
    "\n",
    "# for aluno in range(qnt_alunos):\n",
    "#     qnt_alunos = input(\"Digite o aluno: \")\n",
    "#     lista_alunos.append(qnt_alunos)\n",
    "#     n1 = float(input(\"Digite a primeira nota: \"))\n",
    "#     n2 = float(input(\"Digite a segunda nota: \"))\n",
    "#     n3 = float(input(\"Digite a terceira nota: \"))\n",
    "#     lista_notas.append(n1, n2, n3)\n",
    "#     teste_lista = lista_alunos + lista_notas\n",
    "# print(lista_alunos)\n",
    "\n",
    "\n",
    "    # alunos_notas.append({\n",
    "    #     'Nome': nome,\n",
    "    #     'Notas': [n1, n2, n3],\n",
    "    #     'Media Final' : round(media_notas,2)\n",
    "    # })\n",
    "\n",
    "\n",
    "\n",
    "# lista_notas = []\n",
    "# for i in range(lista_alunos):\n",
    "#     n1 = float(\"Digite a primeira nota: \")\n",
    "#     n2 = float(\"Digite a segunda nota: \")\n",
    "#     n3 = float(\"Digite a terceira nota: \")\n",
    "#     lista_notas.append(n1, n2, n3)"
   ]
  },
  {
   "cell_type": "markdown",
   "metadata": {},
   "source": [
    "Peça para usuário quantos números ele quer digitar, deixei ele digitar a quantidade de números guardando dentro de uma lista(use o for). Chame a função analisedalista. Essa função analise da lista deve apresentar a lista criada pelo usuário, original, ordem crescente, decrescente, excluir o primeiro número e último número e deve ao final mostrar a lista final depois de todas as mudança e o seu tamanho."
   ]
  },
  {
   "cell_type": "code",
   "execution_count": 80,
   "metadata": {},
   "outputs": [
    {
     "name": "stdout",
     "output_type": "stream",
     "text": [
      "[6.0, 2.0, 3.0]\n",
      "[2.0, 3.0, 6.0]\n",
      "[6.0, 3.0, 2.0]\n",
      "[3.0, 2.0]\n",
      "[3.0]\n"
     ]
    }
   ],
   "source": [
    "lista_num = []\n",
    "qnt_num = int(input(\"Digite a quantidade de números que vc quer digitar\"))\n",
    "\n",
    "for num in range(qnt_num):\n",
    "    adicionar_num = float(input(\"Digite o número que vc quer adicionar: \"))\n",
    "    lista_num.append(adicionar_num)\n",
    "\n",
    "def analise_lista(lista_num):\n",
    "    print(lista_num)\n",
    "    lista_num.sort()\n",
    "    print(lista_num)\n",
    "    lista_num.sort(reverse=True)\n",
    "    print(lista_num)\n",
    "    lista_num.pop(0)\n",
    "    print(lista_num)\n",
    "    lista_num.pop()\n",
    "    print(lista_num)\n",
    "\n",
    "analise_lista(lista_num)\n",
    "\n",
    "\n",
    "# print(f\"Decrescente: {lista_num.sort(reverse=True)}\")\n",
    "\n"
   ]
  }
 ],
 "metadata": {
  "kernelspec": {
   "display_name": "Python 3",
   "language": "python",
   "name": "python3"
  },
  "language_info": {
   "codemirror_mode": {
    "name": "ipython",
    "version": 3
   },
   "file_extension": ".py",
   "mimetype": "text/x-python",
   "name": "python",
   "nbconvert_exporter": "python",
   "pygments_lexer": "ipython3",
   "version": "3.13.1"
  }
 },
 "nbformat": 4,
 "nbformat_minor": 2
}
