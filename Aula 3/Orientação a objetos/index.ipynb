{
 "cells": [
  {
   "cell_type": "markdown",
   "metadata": {},
   "source": [
    "Programação Orientada a Objetos(POO)"
   ]
  },
  {
   "cell_type": "code",
   "execution_count": 34,
   "metadata": {},
   "outputs": [
    {
     "name": "stdout",
     "output_type": "stream",
     "text": [
      "Gab || 18 || 1.62\n",
      "Willian || 19 || 1.68\n",
      "Nyrx || 17 || 1.63\n"
     ]
    }
   ],
   "source": [
    "# Classe são tipo entidades, se assemalhate a Banco de Dados\n",
    "\n",
    "class Pessoa:\n",
    "# atributo são caracteristicas do objeto\n",
    "    def __init__(self, nome, idade, altura):\n",
    "        self.nome = nome\n",
    "        self.idade = idade\n",
    "        self.altura = altura\n",
    "\n",
    "\n",
    "   # formas de imprimir dados\n",
    " \n",
    "    def imprimir_dados(self):\n",
    "        print(self.nome, self.idade, self.altura, sep = ' || ')\n",
    "\n",
    "objeto_pessoa_1 = Pessoa('Gab', 18, 1.62)\n",
    "objeto_pessoa_2 = Pessoa('Willian', 19, 1.68)\n",
    "objeto_pessoa_3 = Pessoa('Nyrx', 17, 1.63)\n",
    "    \n",
    "# formas de imprimir dados\n",
    "\n",
    "# 1° Forma\n",
    "# print(objeto_pessoa_1.nome)\n",
    "\n",
    "# 2° Forma\n",
    "\n",
    "objeto_pessoa_1.imprimir_dados()\n",
    "objeto_pessoa_2.imprimir_dados()\n",
    "objeto_pessoa_3.imprimir_dados()\n",
    "\n"
   ]
  },
  {
   "cell_type": "code",
   "execution_count": null,
   "metadata": {},
   "outputs": [
    {
     "name": "stdout",
     "output_type": "stream",
     "text": [
      "Gab - Bateu a meta\n"
     ]
    }
   ],
   "source": [
    "class Vendedor:\n",
    "    def __init__(self, nome):\n",
    "        self.nome = nome\n",
    "      # self.vendas = 0 qnd construtor, ou seja, nesse caso o vendedor começo zerado\n",
    "\n",
    "    def vendeu(self, vendas):\n",
    "        self.vendas = vendas\n",
    "    \n",
    "    def bateu_meta(self, meta):\n",
    "        # self.bateu_metas = meta ( não precisa de contrutor nesse caso )\n",
    "        if self.vendas > meta:\n",
    "            print(self.nome, \"- Bateu a meta\")\n",
    "        else:\n",
    "            print(self.nome, \"- Não bateu a meta\")\n",
    "\n",
    "vendedor1 = Vendedor('Gab')\n",
    "vendedor1.vendeu(2500)\n",
    "vendedor1.bateu_meta(600)\n"
   ]
  }
 ],
 "metadata": {
  "kernelspec": {
   "display_name": "Python 3",
   "language": "python",
   "name": "python3"
  },
  "language_info": {
   "codemirror_mode": {
    "name": "ipython",
    "version": 3
   },
   "file_extension": ".py",
   "mimetype": "text/x-python",
   "name": "python",
   "nbconvert_exporter": "python",
   "pygments_lexer": "ipython3",
   "version": "3.13.1"
  }
 },
 "nbformat": 4,
 "nbformat_minor": 2
}
