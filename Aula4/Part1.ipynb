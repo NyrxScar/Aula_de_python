{
  "nbformat": 4,
  "nbformat_minor": 0,
  "metadata": {
    "colab": {
      "provenance": []
    },
    "kernelspec": {
      "name": "python3",
      "display_name": "Python 3"
    },
    "language_info": {
      "name": "python"
    }
  },
  "cells": [
    {
      "cell_type": "code",
      "execution_count": 1,
      "metadata": {
        "id": "WoYhlOL7E2g-"
      },
      "outputs": [],
      "source": [
        "# importações bibliotecas\n",
        "\n",
        "# pip install -q numpy==2.3.2\n",
        "\n",
        "import numpy as np\n",
        "import math\n",
        "import time"
      ]
    },
    {
      "cell_type": "code",
      "source": [
        "# Criando uma lista(vetor) com numpy de 10 milhões de itens\n",
        "\n",
        "import numpy\n",
        "import math\n",
        "import time\n",
        "\n",
        "precos_np = np.random.rand(10_000_000)\n",
        "type(precos_np)"
      ],
      "metadata": {
        "colab": {
          "base_uri": "https://localhost:8080/"
        },
        "id": "pcMBdlqOHwCb",
        "outputId": "ae3c43e3-eea1-4b98-df08-9c73ead321fe"
      },
      "execution_count": 2,
      "outputs": [
        {
          "output_type": "execute_result",
          "data": {
            "text/plain": [
              "numpy.ndarray"
            ]
          },
          "metadata": {},
          "execution_count": 2
        }
      ]
    },
    {
      "cell_type": "code",
      "source": [
        "precos_np"
      ],
      "metadata": {
        "colab": {
          "base_uri": "https://localhost:8080/"
        },
        "id": "-qcMa4MTIYja",
        "outputId": "6357a5bf-a1aa-46ae-c4a7-a27b8aa2f311"
      },
      "execution_count": 5,
      "outputs": [
        {
          "output_type": "execute_result",
          "data": {
            "text/plain": [
              "array([0.50445673, 0.94996241, 0.89961819, ..., 0.9263436 , 0.96771972,\n",
              "       0.19396487])"
            ]
          },
          "metadata": {},
          "execution_count": 5
        }
      ]
    },
    {
      "cell_type": "code",
      "source": [
        "# Cria uma lista (estrutura de dados em Padrão Python puro)\n",
        "\n",
        "precos_list = list(precos_np)\n",
        "type(precos_list)\n"
      ],
      "metadata": {
        "colab": {
          "base_uri": "https://localhost:8080/"
        },
        "id": "pi-3_DiJIoLZ",
        "outputId": "6b0e2a59-2680-4d0e-e4cd-b2c1d2631388"
      },
      "execution_count": 4,
      "outputs": [
        {
          "output_type": "execute_result",
          "data": {
            "text/plain": [
              "list"
            ]
          },
          "metadata": {},
          "execution_count": 4
        }
      ]
    },
    {
      "cell_type": "code",
      "source": [
        "t0 = time.time()\n",
        "desc = precos_np * 0.9\n",
        "final = desc + 5\n",
        "raiz = np.sqrt(precos_np)\n",
        "print(\"Numpy:\", time.time() - t0, \"segundos\")"
      ],
      "metadata": {
        "colab": {
          "base_uri": "https://localhost:8080/"
        },
        "id": "rez69vBgJqcp",
        "outputId": "f5c535fd-b49e-43eb-a7cb-9097b151dd5c"
      },
      "execution_count": 6,
      "outputs": [
        {
          "output_type": "stream",
          "name": "stdout",
          "text": [
            "Numpy: 0.08912158012390137 segundos\n"
          ]
        }
      ]
    },
    {
      "cell_type": "code",
      "source": [
        "# Mesma operação com Python puro\n",
        "\n",
        "t0 = time.time()\n",
        "desc = [p * 0.9 for p in precos_list]\n",
        "final = [p + 5 for p in desc]\n",
        "raiz = [ math.sqrt(p) for p in precos_list]\n",
        "print(f\"Python puro: {time.time() - t0} segundos \")"
      ],
      "metadata": {
        "colab": {
          "base_uri": "https://localhost:8080/"
        },
        "id": "AeMF51d8KLnh",
        "outputId": "fce25d45-bc13-4124-d096-2f9b2c651ce7"
      },
      "execution_count": 9,
      "outputs": [
        {
          "output_type": "stream",
          "name": "stdout",
          "text": [
            "Python puro: 4.127810001373291 segundos \n"
          ]
        }
      ]
    },
    {
      "cell_type": "code",
      "source": [
        "vetor = np.array([17, 21, 100, 34])\n",
        "print(\"\\nVetor (Array 1D):\\n\")\n",
        "print(vetor)"
      ],
      "metadata": {
        "colab": {
          "base_uri": "https://localhost:8080/"
        },
        "id": "WnMW3yvXPs8u",
        "outputId": "119fccab-a1ff-4d2b-c1bd-c31a96da9985"
      },
      "execution_count": 10,
      "outputs": [
        {
          "output_type": "stream",
          "name": "stdout",
          "text": [
            "\n",
            "Vetor (Array 1D):\n",
            "\n",
            "[ 17  21 100  34]\n"
          ]
        }
      ]
    },
    {
      "cell_type": "code",
      "source": [
        "# verificando atributos\n",
        "\n",
        "print(\"Formato (shape) do vetor:\", vetor.shape)\n",
        "print(\"Número de dimensões (ndim) do vetor:\", vetor.ndim)\n",
        "print(\"Número total de dimensões (size) do vetor:\", vetor.size)"
      ],
      "metadata": {
        "colab": {
          "base_uri": "https://localhost:8080/"
        },
        "id": "0E9dtleEQjkt",
        "outputId": "fd07be1d-f63a-48e0-e84d-b655efa6cfbe"
      },
      "execution_count": 11,
      "outputs": [
        {
          "output_type": "stream",
          "name": "stdout",
          "text": [
            "Formato (shape) do vetor: (4,)\n",
            "Número de dimensões (ndim) do vetor: 1\n",
            "Número total de dimensões (size) do vetor: 4\n"
          ]
        }
      ]
    },
    {
      "cell_type": "code",
      "source": [
        "# Criando um array de 2 dimensões (matriz) a partir de uma lista de listas\n",
        "\n",
        "matriz = np.array([[1,2,3],[4,5,6]])\n",
        "print(\"\\nMatriz (Array 2D): \\n\")\n",
        "print(matriz)"
      ],
      "metadata": {
        "colab": {
          "base_uri": "https://localhost:8080/"
        },
        "id": "knFkMjHcRftF",
        "outputId": "15bf22f4-79f9-4742-d0e1-25a0521dafd0"
      },
      "execution_count": 12,
      "outputs": [
        {
          "output_type": "stream",
          "name": "stdout",
          "text": [
            "\n",
            "Matriz (Array 2D): \n",
            "\n",
            "[[1 2 3]\n",
            " [4 5 6]]\n"
          ]
        }
      ]
    },
    {
      "cell_type": "code",
      "source": [
        "# verificando atributos\n",
        "\n",
        "print(\"Formato (shape) do vetor:\", matriz.shape) # linhas e colunas\n",
        "print(\"Número de dimensões (ndim) do vetor:\", matriz.ndim)\n",
        "print(\"Número total de dimensões (size) do vetor:\", matriz.size)"
      ],
      "metadata": {
        "colab": {
          "base_uri": "https://localhost:8080/"
        },
        "id": "lvs9KN1SSmeR",
        "outputId": "05a12be0-dbb3-4aa7-ad36-d8e20772bd1f"
      },
      "execution_count": 13,
      "outputs": [
        {
          "output_type": "stream",
          "name": "stdout",
          "text": [
            "Formato (shape) do vetor: (2, 3)\n",
            "Número de dimensões (ndim) do vetor: 2\n",
            "Número total de dimensões (size) do vetor: 6\n"
          ]
        }
      ]
    },
    {
      "cell_type": "code",
      "source": [
        "# Criando um array 3D usando np.arange()\n",
        "\n",
        "arr = np.arange(24).reshape(4,3,2)\n",
        "print(\"\\nArray (Array 3D): \\n\")\n",
        "print(arr)"
      ],
      "metadata": {
        "id": "-5_ZtIBQTRVI"
      },
      "execution_count": null,
      "outputs": []
    },
    {
      "cell_type": "code",
      "source": [
        "# verificando atributos\n",
        "\n",
        "print(\"Formato (shape) do vetor:\", arr.shape)\n",
        "print(\"Número de dimensões (ndim) do vetor:\", arr.ndim)\n",
        "print(\"Número total de dimensões (size) do vetor:\", arr.size)"
      ],
      "metadata": {
        "colab": {
          "base_uri": "https://localhost:8080/"
        },
        "id": "lnhA_nT3UCdX",
        "outputId": "cc63084a-7075-40fa-e09d-b3c6e76c014b"
      },
      "execution_count": 15,
      "outputs": [
        {
          "output_type": "stream",
          "name": "stdout",
          "text": [
            "Formato (shape) do vetor: (4, 3, 2)\n",
            "Número de dimensões (ndim) do vetor: 3\n",
            "Número total de dimensões (size) do vetor: 24\n"
          ]
        }
      ]
    },
    {
      "cell_type": "code",
      "source": [
        "# NumPy infere o tipo de dado automaticamente\n",
        "\n",
        "arr_inteiros = np.array([1,2,3])\n",
        "print(f\"Tipo de dado (int): {arr_inteiros.dtype}\")"
      ],
      "metadata": {
        "colab": {
          "base_uri": "https://localhost:8080/"
        },
        "id": "-H6elGCyUp3G",
        "outputId": "b7e619b1-829b-4ba2-e37e-aa3a182dc445"
      },
      "execution_count": 18,
      "outputs": [
        {
          "output_type": "stream",
          "name": "stdout",
          "text": [
            "Tipo de dado (int): int64\n"
          ]
        }
      ]
    },
    {
      "cell_type": "code",
      "source": [
        "# NumPy infere o tipo de dado automaticamente\n",
        "\n",
        "arr_float = np.array([1.0,2.0,3.0])\n",
        "print(f\"Tipo de dado (float): {arr_float.dtype}\")"
      ],
      "metadata": {
        "colab": {
          "base_uri": "https://localhost:8080/"
        },
        "id": "pNMimMIAU-gW",
        "outputId": "56c99bbd-d643-40bd-e2c8-2bfb06e6e84f"
      },
      "execution_count": 17,
      "outputs": [
        {
          "output_type": "stream",
          "name": "stdout",
          "text": [
            "Tipo de dado (int): float64\n"
          ]
        }
      ]
    },
    {
      "cell_type": "code",
      "source": [
        "# Mas podemos especificar o tipo de dado durante a criação\n",
        "\n",
        "arr_float = np.array([1,2,3], dtype=np.float64)\n",
        "print(f\"Tipo de dado (float64): {arr_float.dtype}\")\n",
        "print(f\"Array float: {arr_float}\")"
      ],
      "metadata": {
        "colab": {
          "base_uri": "https://localhost:8080/"
        },
        "id": "F1ajD-FOV5St",
        "outputId": "2a7efb47-ebfb-4db5-ac1c-92ce3968c652"
      },
      "execution_count": 19,
      "outputs": [
        {
          "output_type": "stream",
          "name": "stdout",
          "text": [
            "Tipo de dado (float64): float64\n",
            "Array float: [1. 2. 3.]\n"
          ]
        }
      ]
    },
    {
      "cell_type": "code",
      "source": [
        "# conversão para int64\n",
        "\n",
        "arr_int = arr_float.astype(np.int64)\n",
        "print(f\"Tipo convertido: {arr_int.dtype}\")\n",
        "print(f\"Array convertido: {arr_int}\")"
      ],
      "metadata": {
        "colab": {
          "base_uri": "https://localhost:8080/"
        },
        "id": "KVv3KzfwWpgs",
        "outputId": "ca226d60-e642-4c1f-81e3-f8eb645a6614"
      },
      "execution_count": 20,
      "outputs": [
        {
          "output_type": "stream",
          "name": "stdout",
          "text": [
            "Tipo convertido: int64\n",
            "Array convertido: [1 2 3]\n"
          ]
        }
      ]
    },
    {
      "cell_type": "code",
      "source": [
        "# Vamos criar uma matriz 4x4 com números de 0 a 15\n",
        "\n",
        "dados = np.arange(16).reshape(4,4)\n",
        "print(\"\\nMatriz Original: \\n\")\n",
        "print(dados)\n"
      ],
      "metadata": {
        "colab": {
          "base_uri": "https://localhost:8080/"
        },
        "id": "JLtE1y_MXeuh",
        "outputId": "79bc3cbc-9baa-4e64-d945-af17cf6d276a"
      },
      "execution_count": 21,
      "outputs": [
        {
          "output_type": "stream",
          "name": "stdout",
          "text": [
            "\n",
            "Matriz Original: \n",
            "\n",
            "[[ 0  1  2  3]\n",
            " [ 4  5  6  7]\n",
            " [ 8  9 10 11]\n",
            " [12 13 14 15]]\n"
          ]
        }
      ]
    },
    {
      "cell_type": "code",
      "source": [
        "# Acessando um elemento especifico: linha 1, coluna 2(lembre-se que a indexação em Python começa em 0)\n",
        "print(\"\\nMatriz Original: \\n\")\n",
        "print(dados)\n",
        "elemento = dados[1,2]\n",
        "print(f\"\\nElemento na posição [1,2]: {elemento}\")"
      ],
      "metadata": {
        "colab": {
          "base_uri": "https://localhost:8080/"
        },
        "id": "mFUO5hhfYpiE",
        "outputId": "238633bb-c175-4c25-ad53-cfa53cbcf289"
      },
      "execution_count": 22,
      "outputs": [
        {
          "output_type": "stream",
          "name": "stdout",
          "text": [
            "\n",
            "Matriz Original: \n",
            "\n",
            "[[ 0  1  2  3]\n",
            " [ 4  5  6  7]\n",
            " [ 8  9 10 11]\n",
            " [12 13 14 15]]\n",
            "\n",
            "Elemento na posição [1,2]: 6\n"
          ]
        }
      ]
    }
  ]
}