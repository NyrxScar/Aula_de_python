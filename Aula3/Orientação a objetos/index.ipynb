{
 "cells": [
  {
   "cell_type": "markdown",
   "metadata": {},
   "source": [
    "Programação Orientada a Objetos(POO)"
   ]
  },
  {
   "cell_type": "code",
   "execution_count": 34,
   "metadata": {},
   "outputs": [
    {
     "name": "stdout",
     "output_type": "stream",
     "text": [
      "Gab || 18 || 1.62\n",
      "Willian || 19 || 1.68\n",
      "Nyrx || 17 || 1.63\n"
     ]
    }
   ],
   "source": [
    "# Classe são tipo entidades, se assemalhate a Banco de Dados\n",
    "\n",
    "class Pessoa:\n",
    "# atributo são caracteristicas do objeto\n",
    "    def __init__(self, nome, idade, altura):\n",
    "        self.nome = nome\n",
    "        self.idade = idade\n",
    "        self.altura = altura\n",
    "\n",
    "\n",
    "   # formas de imprimir dados\n",
    " \n",
    "    def imprimir_dados(self):\n",
    "        print(self.nome, self.idade, self.altura, sep = ' || ')\n",
    "\n",
    "objeto_pessoa_1 = Pessoa('Gab', 18, 1.62)\n",
    "objeto_pessoa_2 = Pessoa('Willian', 19, 1.68)\n",
    "objeto_pessoa_3 = Pessoa('Nyrx', 17, 1.63)\n",
    "    \n",
    "# formas de imprimir dados\n",
    "\n",
    "# 1° Forma\n",
    "# print(objeto_pessoa_1.nome)\n",
    "\n",
    "# 2° Forma\n",
    "\n",
    "objeto_pessoa_1.imprimir_dados()\n",
    "objeto_pessoa_2.imprimir_dados()\n",
    "objeto_pessoa_3.imprimir_dados()\n",
    "\n"
   ]
  },
  {
   "cell_type": "code",
   "execution_count": null,
   "metadata": {},
   "outputs": [
    {
     "name": "stdout",
     "output_type": "stream",
     "text": [
      "Gab - Bateu a meta\n"
     ]
    }
   ],
   "source": [
    "class Vendedor:\n",
    "    def __init__(self, nome):\n",
    "        self.nome = nome\n",
    "      # self.vendas = 0 qnd construtor, ou seja, nesse caso o vendedor começo zerado\n",
    "\n",
    "    def vendeu(self, vendas):\n",
    "        self.vendas = vendas\n",
    "    \n",
    "    def bateu_meta(self, meta):\n",
    "        # self.bateu_metas = meta ( não precisa de contrutor nesse caso\n",
    "        if self.vendas > meta:\n",
    "            print(self.nome, \"- Bateu a meta\")\n",
    "        else:\n",
    "            print(self.nome, \"- Não bateu a meta\")\n",
    "\n",
    "vendedor1 = Vendedor('Gab')\n",
    "vendedor1.vendeu(2500)\n",
    "vendedor1.bateu_meta(600)\n"
   ]
  },
  {
   "cell_type": "code",
   "execution_count": null,
   "metadata": {},
   "outputs": [
    {
     "name": "stdout",
     "output_type": "stream",
     "text": [
      "12.56\n"
     ]
    }
   ],
   "source": [
    "# Criação da Classe nomenclada como Círculo\n",
    "class Circulo:\n",
    "    pi = 3.14\n",
    "\n",
    "    # Qnd um objeto desta classe for criado, este método será executado e o valor default(saída) será 5(define um valor padrão caso nenhum seja fornecido)\n",
    "    def __init__(self, raio = 5):\n",
    "        self.raio = raio\n",
    "\n",
    "    # Método para calcular a área do círculo\n",
    "    def area(self):\n",
    "        return (self.raio**2)*Circulo.pi\n",
    "    \n",
    "    # Método para geral um novo raio\n",
    "    def setRaio(self, novo_raio):\n",
    "        self.raio = novo_raio\n",
    "\n",
    "    # Método para obter o raio do círculo\n",
    "    def getRaio(self):\n",
    "        return self.raio\n",
    "\n",
    "valor_do_raio_que_usuario_quer = int(input(\"Digite o raio: \"))\n",
    "Circulo1 = Circulo(valor_do_raio_que_usuario_quer)\n",
    "print(Circulo1.area())\n",
    "valor_do_raio_que_usuario_quer = int(input(\"Digite o raio: \"))\n",
    "Circulo1.setRaio(valor_do_raio_que_usuario_quer)\n",
    "print(Circulo1.getRaio())\n"
   ]
  },
  {
   "cell_type": "markdown",
   "metadata": {},
   "source": [
    "Atv. passada com explicação"
   ]
  },
  {
   "cell_type": "code",
   "execution_count": null,
   "metadata": {},
   "outputs": [],
   "source": [
    "# Criação da Classe nomenclada como Círculo\n",
    "class Circulo:\n",
    "    # Variável de classe - compartilhada por TODOS os objetos da classe Circulo\n",
    "    # O valor de pi será o mesmo para todos os círculos criados\n",
    "    pi = 3.14\n",
    "\n",
    "    # Método construtor - executado AUTOMATICAMENTE quando um novo objeto é criado\n",
    "    # self: referência ao próprio objeto que está sendo criado\n",
    "    # raio=5: parâmetro com valor padrão (default)\n",
    "    # Se nenhum raio for informado, será usado o valor 5\n",
    "    def __init__(self, raio = 5):\n",
    "        # self.raio cria um ATRIBUTO DE INSTÂNCIA\n",
    "        # Cada objeto terá seu próprio valor de raio\n",
    "        self.raio = raio\n",
    "\n",
    "    # Método para calcular a área do círculo\n",
    "    # Fórmula: área = π × raio²\n",
    "    def area(self):\n",
    "        # self.raio: acessa o raio do objeto específico\n",
    "        # Circulo.pi: acessa a variável de classe pi\n",
    "        return (self.raio**2)*Circulo.pi\n",
    "    \n",
    "    # Método para definir/alterar o raio do círculo\n",
    "    # novo_raio: novo valor que substituirá o raio atual\n",
    "    def setRaio(self, novo_raio):\n",
    "        self.raio = novo_raio\n",
    "\n",
    "    # Método para obter/ler o valor atual do raio\n",
    "    def getRaio(self):\n",
    "        return self.raio\n",
    "\n",
    "# === PROGRAMA PRINCIPAL ===\n",
    "\n",
    "# Solicita ao usuário que digite o primeiro raio\n",
    "# int(input()): converte a entrada do usuário para número inteiro\n",
    "valor_do_raio_que_usuario_quer = int(input(\"Digite o raio: \"))\n",
    "\n",
    "# Cria o primeiro objeto Circulo com o raio informado pelo usuário\n",
    "# Circulo1 é uma INSTÂNCIA da classe Circulo\n",
    "Circulo1 = Circulo(valor_do_raio_que_usuario_quer)\n",
    "\n",
    "# Calcula e imprime a área do círculo\n",
    "# Circulo1.area() CHAMA o método area() para o objeto Circulo1\n",
    "print(Circulo1.area())\n",
    "\n",
    "# Solicita NOVAMENTE um raio ao usuário (para modificar o existente)\n",
    "valor_do_raio_que_usuario_quer = int(input(\"Digite o raio: \"))\n",
    "\n",
    "# Altera o raio do objeto Circulo1 usando o método setRaio()\n",
    "# O objeto mantém a mesma referência, mas com raio diferente\n",
    "Circulo1.setRaio(valor_do_raio_que_usuario_quer)\n",
    "\n",
    "# Obtém e imprime o NOVO raio do círculo usando getRaio()\n",
    "print(Circulo1.getRaio())"
   ]
  },
  {
   "cell_type": "markdown",
   "metadata": {},
   "source": [
    "01 - Criar uma classe que representa uma garrafa de água e permite enchê-la ou beber dela.\n",
    "Criar uma classe Garrafa.\n",
    "\n",
    "A garrafa tem:\n",
    "\n",
    "um atributo volume (inicialmente começa vazia, ou seja, 0).\n",
    "\n",
    "Métodos:\n",
    "\n",
    "encher(): coloca água na garrafa até 100.\n",
    "\n",
    "beber(qtd): diminui a quantidade de água se houver suficiente.\n",
    "\n",
    "mostrar_volume(): mostra quanto de água há na garrafa."
   ]
  },
  {
   "cell_type": "code",
   "execution_count": 39,
   "metadata": {},
   "outputs": [
    {
     "name": "stdout",
     "output_type": "stream",
     "text": [
      "Encher:\n",
      "Falta 60 ml pro limite máximo de 100 ml do preenchimento da garrafa, visto que vc abasteceu 40 ml\n",
      "Beber:\n",
      "Vc tem sobrando 20 ml\n"
     ]
    }
   ],
   "source": [
    "class Garrafa:\n",
    "    def __init__(self, nome_marca, volume):\n",
    "        self.nome_marca = nome_marca\n",
    "        self.volume = volume\n",
    "\n",
    "    def encheu(self,encher):\n",
    "        # self.encher = encher\n",
    "        if self.volume > encher:\n",
    "            return self.volume - encher\n",
    "        else:\n",
    "            return \"Vc excedeu o volume\"\n",
    "\n",
    "    def bebeu(self, beber):\n",
    "        if beber > encher_volume:\n",
    "            encher_volume - beber\n",
    "            return \"Você acabou de beber td\"\n",
    "        else: \n",
    "            return f\"Vc tem sobrando {encher_volume - beber} ml\"\n",
    "\n",
    "print(\"Encher:\")\n",
    "\n",
    "garrafa1 = Garrafa('Santa Rita', 100)\n",
    "encher_volume = int(input(\"Digite o valor que você deseja abastecer a garrafa: \"))\n",
    "valor_diferenca_vol = garrafa1.encheu(encher_volume)\n",
    "print(f\"Falta {valor_diferenca_vol} ml pro limite máximo de 100 ml do preenchimento da garrafa, visto que vc abasteceu {encher_volume} ml\")\n",
    "\n",
    "print(\"Beber:\")\n",
    "\n",
    "beber_volume = int(input(\"Digite o valor que você deseja beber da garrafa: \"))\n",
    "resultado_beber = garrafa1.bebeu(beber_volume)\n",
    "print(resultado_beber)\n",
    "\n"
   ]
  },
  {
   "cell_type": "code",
   "execution_count": 40,
   "metadata": {},
   "outputs": [
    {
     "name": "stdout",
     "output_type": "stream",
     "text": [
      "Volkswagen Fusca 1970 Azul\n",
      "2\n",
      "Volkswagen Fusca 1970 Azul\n",
      "500\n"
     ]
    }
   ],
   "source": [
    "class Automoveis():\n",
    "    def __init__(self, marca, modelo, ano, cor):\n",
    "        self.marca = marca\n",
    "        self.modelo = modelo\n",
    "        self.ano = ano\n",
    "        self.cor = cor\n",
    "\n",
    "    def imprimir_dados(self):\n",
    "        print(self.marca, self.modelo, self.ano, self.cor)\n",
    "    \n",
    "class Carro(Automoveis):\n",
    "    def __init__(self, marca, modelo, ano, cor, num_portas):\n",
    "        super().__init__(marca,modelo,ano,cor)\n",
    "        self.num_portas = num_portas\n",
    "\n",
    "class Moto(Automoveis):\n",
    "    def __init__(self, marca, modelo, ano, cor, cilindrada):\n",
    "        super().__init__(marca, modelo, ano, cor)\n",
    "        self.cilindrada = cilindrada\n",
    "\n",
    "fusca = Carro('Volkswagen', 'Fusca', 1970, 'Azul', 2)\n",
    "fusca.imprimir_dados()\n",
    "print(fusca.num_portas)\n",
    "\n",
    "biz = Moto('Honda', 'Biz', 1975, 'Vermelha', 500)\n",
    "fusca.imprimir_dados()\n",
    "print(biz.cilindrada)\n"
   ]
  },
  {
   "cell_type": "markdown",
   "metadata": {},
   "source": [
    "1 - Você deve criar um sistema para gerenciar itens de uma biblioteca. A biblioteca tem vários tipos de itens: livros, revistas e DVDs.\n",
    "Todos os itens possuem título e ano de publicação. Livros têm autor e número de páginas.\n",
    "Revistas têm número da edição e mês de publicação. DVDs têm duração em minutos e formato (ex: Blu-ray, DVD).\n",
    "Atenção:\n",
    "\t-Crie uma classe base chamada ItemBiblioteca com atributos comuns (título e ano).\n",
    "\t-Crie classes filhas: Livro, Revista e DVD, que herdam de ItemBiblioteca e possuem seus atributos específicos.\n",
    "\t-Implemente um método exibir_info() em cada classe para mostrar os detalhes do item.\n",
    "\t-Crie uma lista contendo objetos de cada tipo e imprima as informações usando o método exibir_info().\n"
   ]
  },
  {
   "cell_type": "markdown",
   "metadata": {},
   "source": [
    "\n",
    "2 - Você vai implementar um sistema para calcular o pagamento mensal de funcionários de uma empresa que podem ter diferentes tipos de contrato: CLT (com salário fixo), Freelancer (com pagamento por hora) e Comissionado (salário fixo + comissão sobre vendas). Todos os funcionários têm nome e CPF. Funcionários CLT possuem salário fixo. Freelancers possuem valor por hora e horas trabalhadas no mês. Comissionados possuem salário fixo e valor total de vendas no mês.\n",
    "\n",
    "Atenção:\n",
    "\t- Crie uma classe base Funcionario com atributos comuns(nome, cpf(eu acho, sou eu que to escrevendo)).\n",
    "\t- Crie as classes filhas FuncionarioCLT, Freelancer e Comissionado, com seus atributos específicos.\n",
    "\t- Cada classe deve implementar um método calcular_pagamento() que retorna o valor a ser pago.\n",
    "\t- Crie objetos de cada tipo, chame o método calcular_pagamento() e exiba o resultado."
   ]
  }
 ],
 "metadata": {
  "kernelspec": {
   "display_name": "Python 3",
   "language": "python",
   "name": "python3"
  },
  "language_info": {
   "codemirror_mode": {
    "name": "ipython",
    "version": 3
   },
   "file_extension": ".py",
   "mimetype": "text/x-python",
   "name": "python",
   "nbconvert_exporter": "python",
   "pygments_lexer": "ipython3",
   "version": "3.13.1"
  }
 },
 "nbformat": 4,
 "nbformat_minor": 2
}
