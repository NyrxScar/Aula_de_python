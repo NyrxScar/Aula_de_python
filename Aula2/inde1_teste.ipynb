{
 "cells": [
  {
   "cell_type": "code",
   "execution_count": null,
   "id": "bbaf7d0f",
   "metadata": {},
   "outputs": [
    {
     "name": "stdout",
     "output_type": "stream",
     "text": [
      "O valor de x nesta iteração é: 0\n",
      "X ainda é menor que 10, somando 1 a x\n",
      "O valor de x nesta iteração é: 1\n",
      "X ainda é menor que 10, somando 1 a x\n",
      "O valor de x nesta iteração é: 2\n",
      "X ainda é menor que 10, somando 1 a x\n",
      "O valor de x nesta iteração é: 3\n",
      "X ainda é menor que 10, somando 1 a x\n",
      "O valor de x nesta iteração é: 4\n",
      "X ainda é menor que 10, somando 1 a x\n",
      "O valor de x nesta iteração é: 5\n",
      "X ainda é menor que 10, somando 1 a x\n",
      "O valor de x nesta iteração é: 6\n",
      "X ainda é menor que 10, somando 1 a x\n",
      "O valor de x nesta iteração é: 7\n",
      "X ainda é menor que 10, somando 1 a x\n",
      "O valor de x nesta iteração é: 8\n",
      "X ainda é menor que 10, somando 1 a x\n",
      "O valor de x nesta iteração é: 9\n",
      "X ainda é menor que 10, somando 1 a x\n",
      "Loop Concluído\n",
      "10\n"
     ]
    }
   ],
   "source": [
    "x = 0\n",
    "\n",
    "while x < 10:\n",
    "    print(\"X ainda é menor que 10, somando 1 a x\")\n",
    "    x += 1\n",
    "else:\n",
    "    print(\"Loop Concluído\")\n",
    "print(x)"
   ]
  },
  {
   "cell_type": "code",
   "execution_count": 7,
   "id": "87cc47c3",
   "metadata": {},
   "outputs": [
    {
     "name": "stdout",
     "output_type": "stream",
     "text": [
      "1\n",
      "2\n",
      "3\n"
     ]
    }
   ],
   "source": [
    "i = 1\n",
    "\n",
    "while True:\n",
    "    print(i)\n",
    "    i = i+1\n",
    "    if(i > 3):\n",
    "        break"
   ]
  },
  {
   "cell_type": "markdown",
   "id": "28db71ae",
   "metadata": {},
   "source": [
    "Switch case : Match no python"
   ]
  },
  {
   "cell_type": "code",
   "execution_count": 11,
   "id": "1bace89b",
   "metadata": {},
   "outputs": [
    {
     "name": "stdout",
     "output_type": "stream",
     "text": [
      "Acabou o programa\n"
     ]
    }
   ],
   "source": [
    "TempoAgora = input(\"Digite se irá fazer Sol, Chover ou ficar nublado\")\n",
    "match(TempoAgora.lower()):\n",
    "    case(\"sol\"):\n",
    "        print(\" Não precisa do guarda chuva \")\n",
    "    case(\"chover\"):\n",
    "        print(\" Leve o guarda o chuva \")\n",
    "    case(\"nublado\"):\n",
    "        print(\"Pode chover, melhor levar o guarda-chuva\")\n",
    "print(\"Acabou o programa\")\n"
   ]
  },
  {
   "cell_type": "code",
   "execution_count": null,
   "id": "6b00c28b",
   "metadata": {},
   "outputs": [],
   "source": [
    "for i in range(20,150,2):\n",
    "    print(i)"
   ]
  },
  {
   "cell_type": "code",
   "execution_count": null,
   "id": "bd382635",
   "metadata": {},
   "outputs": [],
   "source": [
    "gastos = []\n",
    "total = 0\n",
    "\n",
    "gastos = []\n",
    "total = 0\n",
    "\n",
    "while True:\n",
    "    try:\n",
    "        qnt_gastos = int(input(\"Digite a quantidade de números de gasto(s) que deseja digitar: \"))\n",
    "\n",
    "        if qnt_gastos <= 0:\n",
    "            print(\"Digite um número válido, maior que 0. Finalizando o programa.\")\n",
    "            break\n",
    "\n",
    "        for i in range(qnt_gastos):\n",
    "            adicionar_gasto = float(input(f\"Digite o gasto {i+1} (ou 0 para sair): \"))\n",
    "\n",
    "            if adicionar_gasto == 0:\n",
    "                print(\"Saindo...\")\n",
    "                break\n",
    "\n",
    "            gastos.append(adicionar_gasto)\n",
    "            total += adicionar_gasto\n",
    "            print(f\"Abastecimento {i+1}: R${adicionar_gasto:.2f}\")\n",
    "\n",
    "        if len(gastos) > 0:\n",
    "            media = total / len(gastos)\n",
    "            print(f\"\\nTotal: R${total:.2f}\")\n",
    "            print(f\"Média: R${media:.2f}\")\n",
    "        break\n",
    "\n",
    "    except ValueError:\n",
    "        print(\"Erro: digite apenas números válidos.\")\n",
    "        continue\n",
    "\n",
    "\n",
    "# while True:\n",
    "#     try:\n",
    "#         qnt_gastos = int(input(\"Digite a qnt de números de gasto(s) que deseja digitar: \"))\n",
    "#         for i in range(qnt_gastos):\n",
    "#                 if qnt_gastos < 0:\n",
    "#                     print(\"Digite um número válido, ou seja maior que 0. Finalizando o programa\")\n",
    "#                     break\n",
    "#                 else:\n",
    "#                     adicionar_gasto = float(input(\"Digite o(s) gasto(s) ou '0' para sair: \"))\n",
    "#                     if adicionar_gasto == \"0\":\n",
    "#                         print(\"Saindo\")\n",
    "#                         break\n",
    "#                     else:\n",
    "#                         gastos.append(adicionar_gasto)\n",
    "#                         print(f\"Abastecimento {i+1}: R${gastos[i]:.2f}\")\n",
    "#                         total+=gastos[i]\n",
    "#                         break\n",
    "#     except:\n",
    "#         print(\"Deu errado, digite um número inteiro\")\n",
    "#         break\n",
    "\n",
    "\n",
    "\n",
    "# for i in range(4):\n",
    "#     print(f\"Abastecimento {i+1}: R${gastos[i]:.2f}\")\n",
    "#     total+=gastos[i]\n",
    "\n",
    "media = total/qnt_gastos\n",
    "print(f\"\\nTotal: R${total:.2f}\")\n",
    "print(f\"Média: R${media:.2f}\")"
   ]
  },
  {
   "cell_type": "code",
   "execution_count": 57,
   "id": "e3d950f7",
   "metadata": {},
   "outputs": [
    {
     "name": "stdout",
     "output_type": "stream",
     "text": [
      "6\n",
      "5\n",
      "4\n",
      "3\n",
      "2\n",
      "1\n",
      "Foguete Decolando\n"
     ]
    }
   ],
   "source": [
    "foguete = int(input(\"Digite de quanto irá começar a contagem regressiva\"))\n",
    "\n",
    "for i in range(foguete,0,-1):\n",
    "    print(i)\n",
    "print(\"Foguete Decolando\")"
   ]
  },
  {
   "cell_type": "code",
   "execution_count": null,
   "id": "389a4f49",
   "metadata": {},
   "outputs": [],
   "source": [
    "ListaFruta = []\n",
    "for i in range(0,3,1):\n",
    "    lista = input(\"Digite a fruta\")\n",
    "    ListaFruta.append(lista)\n",
    "for i in range(0,3,1):\n",
    "    print(ListaFruta[i])\n",
    "print(\"Acabou o programa\")"
   ]
  },
  {
   "cell_type": "code",
   "execution_count": null,
   "id": "bced6140",
   "metadata": {},
   "outputs": [],
   "source": [
    "for i in range(100,0,-1):\n",
    "    if i%2 != 0:\n",
    "        print(i)"
   ]
  },
  {
   "cell_type": "code",
   "execution_count": null,
   "id": "6629d8a8",
   "metadata": {},
   "outputs": [
    {
     "name": "stdout",
     "output_type": "stream",
     "text": [
      "a\n",
      "b\n",
      "c\n",
      "e\n",
      "q\n",
      "g\n",
      "Acabou o programa\n"
     ]
    }
   ],
   "source": [
    "x = \"Sim\"\n",
    "lista_fruta_nova = []\n",
    "while x.lower() == \"sim\":\n",
    "    fruta = input(\"Digite uma fruta\")\n",
    "    lista_fruta_nova.append(fruta)\n",
    "    x = input(\"Deseja continuar? Digite Sim ou Não\")\n",
    "\n",
    "for i in range(len(lista_fruta_nova)):\n",
    "    print(lista_fruta_nova[i])\n",
    "print(\"Acabou o programa\")\n"
   ]
  },
  {
   "cell_type": "code",
   "execution_count": null,
   "id": "e4243093",
   "metadata": {},
   "outputs": [],
   "source": [
    "i = 0\n",
    "meta_mensal = 1000\n",
    "vendas_meses = []\n",
    "while i <= 11:\n",
    "    vendas = float(input(f\" Digite os valores respectivos aos 12 meses:\"))\n",
    "    vendas_meses.append(vendas)\n",
    "    print(f\"{i+1}º Mês - R$ {vendas:.2f}\")\n",
    "    i += 1\n",
    "    if vendas >= meta_mensal:\n",
    "        print(f\"Você bateu a meta desse mês\")\n",
    "    else:\n",
    "        print(f\"Você não bateu a meta nesse mês\")\n",
    "\n"
   ]
  },
  {
   "cell_type": "code",
   "execution_count": 143,
   "id": "cfb35815",
   "metadata": {},
   "outputs": [],
   "source": [
    "import matplotlib.pyplot as plt\n",
    "import numpy as np\n",
    "import random"
   ]
  },
  {
   "cell_type": "code",
   "execution_count": 132,
   "id": "404114f5",
   "metadata": {},
   "outputs": [
    {
     "data": {
      "image/png": "[encoded data removed]",
      "text/plain": [
       "<Figure size 640x480 with 1 Axes>"
      ]
     },
     "metadata": {},
     "output_type": "display_data"
    }
   ],
   "source": [
    "\n",
    "y = [500, 3000, 1500, 2000, 1000, 2500]\n",
    "x = [1, 2, 3, 4, 5, 6]\n",
    "plt.bar(x, y)\n",
    "plt.show()"
   ]
  },
  {
   "cell_type": "code",
   "execution_count": null,
   "id": "b378756e",
   "metadata": {},
   "outputs": [],
   "source": [
    "\n",
    "y = [1, 4, 9, 16, 25]\n",
    "x = [1, 2, 3, 4, 5]\n",
    "plt.figure(figsize=(10, 5))\n",
    "\n",
    "plt.plot(x, y, marker='o', linestyle='-', color='r')\n",
    "plt.xlabel(\"Valores no eixo X\")\n",
    "plt.ylabel(\"Valores no eixo Y\")\n",
    "plt.title(\"Exemplo de gráfico de Linha\")\n",
    "plt.grid(True)\n",
    "# plt.bar(x, y)\n",
    "plt.show()\n",
    "\n",
    "\n",
    "\n",
    "\n",
    "\n"
   ]
  },
  {
   "cell_type": "markdown",
   "id": "a24c9a99",
   "metadata": {},
   "source": [
    "Você é programador da loja de departamento Americanas.\n",
    "\n",
    "Faça um programa que peça para incluir nome de vendedores até quantidade que o usuário não quiser mais.\n",
    "\n",
    "Após isso, o programa deve habilitar solicitação da venda do mês de Março dos vendedores.\n",
    "\n",
    "Com Isso, você deve tirar a média do mês de Março, sendo que deve ter um gráfico mostrando resultado do mês Janeiro(Vendeu 50mil) e Fevereiro(vendeu 30mil), obviamente informando também Março no gráfico.\n",
    "\n",
    "Por fim mostrar em outro gráfico vendas por vendedor."
   ]
  },
  {
   "cell_type": "code",
   "execution_count": null,
   "id": "c763128f",
   "metadata": {},
   "outputs": [
    {
     "name": "stdout",
     "output_type": "stream",
     "text": [
      "Saindo...\n",
      "Nomes digitados: ['vsdvs', 'vsvd', 'vsd']\n",
      "Valores: [141.0, 131.0, 432.0]\n"
     ]
    },
    {
     "data": {
      "image/png": "[encoded data removed]",
      "text/plain": [
       "<Figure size 1000x400 with 1 Axes>"
      ]
     },
     "metadata": {},
     "output_type": "display_data"
    },
    {
     "data": {
      "image/png": "[encoded data removed]",
      "text/plain": [
       "<Figure size 1000x400 with 1 Axes>"
      ]
     },
     "metadata": {},
     "output_type": "display_data"
    }
   ],
   "source": [
    "import matplotlib.pyplot as plt\n",
    "import numpy as np\n",
    "\n",
    "nomes = []\n",
    "nome = input(\"Digite seu nome ou '0' para sair: \")\n",
    "\n",
    "while True:\n",
    "    if nome != \"0\":\n",
    "        nomes.append(nome)\n",
    "        nome = input(\"Digite seu nome ou '0' para sair: \")\n",
    "    else:\n",
    "        print(\"Saindo...\")\n",
    "        break\n",
    "print(f\"Nomes digitados: {nomes}\")\n",
    "\n",
    "valores = []\n",
    "\n",
    "while len(valores) != len(nomes):\n",
    "    valor = float(input(f\"Digite os valores do conquistador no mês de março dos funcionários{nomes} ou '0' para sair: \"))\n",
    "    if valor < 0:\n",
    "        print(\"Digite um valor válido, ou seja maior que 0. Finalizando o programa\")\n",
    "        break\n",
    "    else:\n",
    "        valores.append(valor)\n",
    "print(f\"Valores: {valores}\")\n",
    "        \n",
    "mediaMarco = max(valores)/len(valores)\n",
    "print(mediaMarco)\n",
    "\n",
    "# funcionario_valor = zip(nomes, valores)\n",
    "# print(list(funcionario_valor))\n",
    "\n",
    "\n",
    "\n",
    "x = ['Janeiro', 'Favereiro', 'Março']\n",
    "y = [300, 500, mediaMarco]\n",
    "\n",
    "plt.figure(figsize=(10, 4))\n",
    "\n",
    "plt.grid(axis='y', linestyle='-', alpha=0.4)\n",
    "plt.xlabel(\"\\nValores no eixo X\")\n",
    "plt.ylabel(\"Valores no eixo Y\")\n",
    "plt.title(\"Gráfico de Barra de Funcionários\")\n",
    "plt.bar(x, y)\n",
    "plt.show()\n",
    "\n",
    "\n",
    "\n",
    "\n",
    "y = valores\n",
    "x = nomes\n",
    "\n",
    "plt.figure(figsize=(10, 4))\n",
    "\n",
    "\n",
    "plt.grid(axis='y', linestyle='-', alpha=0.4)\n",
    "plt.xlabel(\"\\nValores no eixo X\")\n",
    "plt.ylabel(\"Valores no eixo Y\\n\")\n",
    "plt.title(\"Gráfico de Barra de Vendedores e valores\")\n",
    "plt.bar(x, y)\n",
    "plt.tight_layout()\n",
    "plt.show()\n",
    "\n",
    "# for cada_nome in nomes:\n",
    "#     print(cada_nome)"
   ]
  },
  {
   "cell_type": "code",
   "execution_count": 149,
   "id": "b0b74a4e",
   "metadata": {},
   "outputs": [
    {
     "data": {
      "image/png": "[encoded data removed]",
      "text/plain": [
       "<Figure size 640x480 with 1 Axes>"
      ]
     },
     "metadata": {},
     "output_type": "display_data"
    },
    {
     "data": {
      "image/png": "[encoded data removed]",
      "text/plain": [
       "<Figure size 640x480 with 1 Axes>"
      ]
     },
     "metadata": {},
     "output_type": "display_data"
    },
    {
     "data": {
      "text/plain": [
       "<contextlib.ExitStack at 0x154d7e48690>"
      ]
     },
     "execution_count": 149,
     "metadata": {},
     "output_type": "execute_result"
    }
   ],
   "source": [
    "y = np.random.randint(30, 40, 4)\n",
    "x = [1, 2, 3, 4]\n",
    "\n",
    "plt.ion()  # Ativa o modo interativo\n",
    "plt.bar(x, y)\n",
    "plt.title(\"Exemplo de gráfico 1\")\n",
    "plt.pause(2) # Pausa por 2 segundos para visualizar o gráfico\n",
    "\n",
    "\n",
    "plt.cla() # Limpa o gráfico atual\n",
    "plt.clf() # Limpa toda a figura/geral\n",
    "y = np.random.randint(10, 20, 4)\n",
    "plt.bar(x, y)\n",
    "plt.title(\"Exemplo de gráfico 2\")\n",
    "plt.pause(2) # Pausa por 2 segundos para visualizar o gráfico\n",
    "\n",
    "plt.ioff()  # Desativa o modo interativo\n"
   ]
  },
  {
   "cell_type": "markdown",
   "id": "9dc8d7c7",
   "metadata": {},
   "source": [
    "Você trabalha no setor de logística de uma empresa de varejo. Sua função é acompanhar as entradas de produtos no estoque durante o mês.\n",
    "\n",
    "Use um laço while para permitir o cadastro de produtos (nome do produto) até que o usuário digite \"sair\".\n",
    "\n",
    "Para cada produto, use um laço for para pedir a quantidade recebida por semana (4 semanas no total).\n",
    "\n",
    "Calcule e mostre:\n",
    "\n",
    "A média semanal de entrada de cada produto.\n",
    "\n",
    "O total geral de produtos recebidos no mês.\n",
    "\n",
    "Exiba dois gráficos com matplotlib:\n",
    "\n",
    "📈 Gráfico de linha mostrando o total de produtos recebidos por semana (somando todos os produtos).\n",
    "\n",
    "📊 Gráfico de barras mostrando o total mensal recebido por produto."
   ]
  },
  {
   "cell_type": "code",
   "execution_count": null,
   "id": "b476905d",
   "metadata": {},
   "outputs": [
    {
     "name": "stdout",
     "output_type": "stream",
     "text": [
      "1º Semana: Sua qnt é 2131\n",
      "2º Semana: Sua qnt é 41234\n",
      "3º Semana: Sua qnt é 2342\n",
      "4º Semana: Sua qnt é 12\n",
      "\n",
      "Produtos: ['nsa']\t Quantidade: 41234\n",
      "\n",
      "\n",
      "1º Semana: Sua qnt é 2131\n",
      "2º Semana: Sua qnt é 231\n",
      "3º Semana: Sua qnt é 12\n",
      "4º Semana: Sua qnt é 21\n",
      "\n",
      "Produtos: ['nsa', 'gr']\t Quantidade: 41234\n",
      "\n",
      "\n",
      "Saindo...\n",
      "[2131, 41234, 2342, 12, 2131, 231, 12, 21]\n"
     ]
    }
   ],
   "source": [
    "import matplotlib.pyplot as plt\n",
    "import numpy as np\n",
    "\n",
    "produtos = []\n",
    "# produto = input(\"Digite o nome do produto ou '0' para sair: \")\n",
    "\n",
    "valores_qnt = []\n",
    "\n",
    "while True:\n",
    "    produto = input(\"Digite o nome do produto ou '0' para sair: \")\n",
    "    if produto != \"0\":\n",
    "        produtos.append(produto)\n",
    "        for i in range(4):\n",
    "            qnt_produto = int(input(f\"Digite o valor da qnt do produto da {i+1} semana: \"))\n",
    "            valores_qnt.append(qnt_produto)\n",
    "            print(f\"{i+1}º Semana: Sua qnt é {qnt_produto}\")\n",
    "        print(f\"\\nProdutos: {produtos}\\t Quantidade: {valores_qnt}\")\n",
    "        print(\"\\n\")\n",
    "    else:\n",
    "        print(\"Saindo...\")\n",
    "        break\n",
    "\n",
    "print(valores_qnt)\n",
    "# for indice in produtos:\n",
    "\n",
    "# media_mensalProduto = max(valores)/4\n",
    "\n",
    "# valores = []\n",
    "\n",
    "# while len(valores) != len(nomes):\n",
    "#     valor = float(input(f\"Digite os valores semanais da quantidade recida dos produtos{nomes} ou digite '0' para sair: \"))\n",
    "#     if valor < 0:\n",
    "#         print(\"Digite um valor válido, ou seja maior que 0. Finalizando o programa\")\n",
    "#         break\n",
    "#     else:\n",
    "#         valores.append(valor)\n",
    "# print(f\"Valores: {valores}\")\n",
    "        \n",
    "# for i in range(len(produtos)):\n",
    "#     qnt_produto = int(input(\"Digite o valor da qnt de produto\"))\n",
    "#     i+=1\n",
    "#     print(f\"{i}º - Semana:{qnt_produto} \")\n",
    "#     valores.append(qnt_produto)\n",
    "# print(f\"Quantidades respectivas: {valores}\")\n",
    "# produto_qnt = zip(produtos, valores)\n",
    "# print(list(f\"Produto e Quantidade: {produto_qnt}\"))\n",
    "\n",
    "# mediaSemanalprod = max(valores)/\n",
    "# print(mediaMarco)\n",
    "\n",
    "# # funcionario_valor = zip(nomes, valores)\n",
    "# # print(list(funcionario_valor))\n",
    "\n",
    "\n",
    "\n",
    "# x = ['Janeiro', 'Favereiro', 'Março']\n",
    "# y = [300, 500, mediaMarco]\n",
    "\n",
    "# plt.figure(figsize=(10, 4))\n",
    "\n",
    "# plt.grid(axis='y', linestyle='-', alpha=0.4)\n",
    "# plt.xlabel(\"\\nValores no eixo X\")\n",
    "# plt.ylabel(\"Valores no eixo Y\")\n",
    "# plt.title(\"Gráfico de Barra de Funcionários\")\n",
    "# plt.bar(x, y)\n",
    "# plt.show()\n",
    "\n",
    "\n",
    "\n",
    "\n",
    "# y = valores\n",
    "# x = nomes\n",
    "\n",
    "# plt.figure(figsize=(10, 4))\n",
    "\n",
    "\n",
    "# plt.grid(axis='y', linestyle='-', alpha=0.4)\n",
    "# plt.xlabel(\"\\nValores no eixo X\")\n",
    "# plt.ylabel(\"Valores no eixo Y\\n\")\n",
    "# plt.title(\"Gráfico de Barra de Vendedores e valores\")\n",
    "# plt.bar(x, y)\n",
    "# plt.tight_layout()\n",
    "# plt.show()\n",
    "\n",
    "# # for cada_nome in nomes:\n",
    "# #     print(cada_nome)"
   ]
  }
 ],
 "metadata": {
  "kernelspec": {
   "display_name": "Python 3",
   "language": "python",
   "name": "python3"
  },
  "language_info": {
   "codemirror_mode": {
    "name": "ipython",
    "version": 3
   },
   "file_extension": ".py",
   "mimetype": "text/x-python",
   "name": "python",
   "nbconvert_exporter": "python",
   "pygments_lexer": "ipython3",
   "version": "3.13.0"
  }
 },
 "nbformat": 4,
 "nbformat_minor": 5
}
